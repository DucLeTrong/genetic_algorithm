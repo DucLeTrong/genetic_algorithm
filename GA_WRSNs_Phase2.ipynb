{
  "nbformat": 4,
  "nbformat_minor": 0,
  "metadata": {
    "colab": {
      "name": "GA_WRSNs_Phase2.ipynb",
      "provenance": [],
      "collapsed_sections": [],
      "authorship_tag": "ABX9TyOt+Qd0wYZEjg1Qc/Ajveg+",
      "include_colab_link": true
    },
    "kernelspec": {
      "name": "python3",
      "display_name": "Python 3"
    },
    "accelerator": "GPU"
  },
  "cells": [
    {
      "cell_type": "markdown",
      "metadata": {
        "id": "view-in-github",
        "colab_type": "text"
      },
      "source": [
        "<a href=\"https://colab.research.google.com/github/DucLeTrong/genetic_algorithm/blob/master/GA_WRSNs_Phase2.ipynb\" target=\"_parent\"><img src=\"https://colab.research.google.com/assets/colab-badge.svg\" alt=\"Open In Colab\"/></a>"
      ]
    },
    {
      "cell_type": "code",
      "metadata": {
        "id": "wTEv5wjd9cdz",
        "colab_type": "code",
        "colab": {}
      },
      "source": [
        "import random\n",
        "random.seed( 30 )\n",
        "import math\n",
        "paras = {}\n",
        "f = open('2.txt','r')\n",
        "list_node = []\n",
        "for x in f:\n",
        "    list_node.append([float(i) for i in x.split(\" \")])\n",
        "paras[\"list_node\"] = list_node\n",
        "def calcualte_distances(list_node):\n",
        "    distances =[[None]*len(list_node) for i in range(len(list_node))] \n",
        "    for i in range(len(list_node)):\n",
        "        for j in range(len(list_node)):\n",
        "            distances[i][j] = math.sqrt((list_node[i][0]-list_node[j][0])**2 + (list_node[i][1]-list_node[j][1])**2)\n",
        "\n",
        "    # print(distances)\n",
        "    return distances\n",
        "paras['distances'] = calcualte_distances(list_node)\n",
        "# distances[1][2]\n",
        "paras['V'] = 5\n",
        "paras['ALPHA'] = 0.5\n",
        "paras['num_of_gens'] = len(paras['list_node'])\n",
        "paras['size_popu'] = 250\n",
        "paras[\"U\"] = 5\n",
        "paras['E_MC'] = 108000\n",
        "paras[\"P_M\"] = 1"
      ],
      "execution_count": 0,
      "outputs": []
    },
    {
      "cell_type": "code",
      "metadata": {
        "id": "MDQ4fx4sCpN4",
        "colab_type": "code",
        "colab": {}
      },
      "source": [
        "# list_node = []\n",
        "# f = open('2.txt','r')\n",
        "# for x in f:\n",
        "#     list_node.append([float(i) for i in x.split(\" \")])\n",
        "# paras['E_MC'] = 108000\n",
        "# paras[\"P_M\"] = 1\n",
        "# paras['V'] = 5\n",
        "# list_t_max= [i[3]- 540 for i in list_node]"
      ],
      "execution_count": 0,
      "outputs": []
    },
    {
      "cell_type": "code",
      "metadata": {
        "id": "gqkstk31_I2V",
        "colab_type": "code",
        "colab": {}
      },
      "source": [
        "f = open(\"2-result.txt\",'r')\n",
        "# print(f.readline())\n",
        "# x = f.readline()\n",
        "# x.split(' ')\n",
        "charging_path = [int(i)-1 for i in f.readline().split(' ')[:-1]]\n",
        "\n",
        "# charging_path "
      ],
      "execution_count": 0,
      "outputs": []
    },
    {
      "cell_type": "code",
      "metadata": {
        "id": "StZXw4Y-__VI",
        "colab_type": "code",
        "outputId": "66593c52-c0a3-4873-e9fb-cfb1c49299d8",
        "colab": {
          "base_uri": "https://localhost:8080/",
          "height": 35
        }
      },
      "source": [
        "S =  math.sqrt(list_node[charging_path[0]][0]**2 + list_node[charging_path[0]][1]**2)\n",
        "# S = 0\n",
        "S += math.sqrt(list_node[charging_path[-1]][0]**2 + list_node[charging_path[-1]][1]**2)\n",
        "for i in range(1,len(charging_path)):\n",
        "    S += paras['distances'][charging_path[i]][charging_path[i-1]]\n",
        "print(S/paras['V'])\n",
        "total_charging_time = (paras['E_MC'] - (S*paras[\"P_M\"] / paras['V'])) / paras[\"U\"]\n",
        "list_t_max= [(10800- 540)/(paras[\"U\"] - list_node[i][2])/total_charging_time for i in charging_path]\n",
        "\n",
        "distances = paras['distances']"
      ],
      "execution_count": 73,
      "outputs": [
        {
          "output_type": "stream",
          "text": [
            "20653.883431070768\n"
          ],
          "name": "stdout"
        }
      ]
    },
    {
      "cell_type": "code",
      "metadata": {
        "id": "Ut_iYtfyEPz3",
        "colab_type": "code",
        "colab": {
          "base_uri": "https://localhost:8080/",
          "height": 35
        },
        "outputId": "5c9922fd-3ad2-496d-d2e1-2237b09a198c"
      },
      "source": [
        "total_charging_time"
      ],
      "execution_count": 74,
      "outputs": [
        {
          "output_type": "execute_result",
          "data": {
            "text/plain": [
              "17469.223313785846"
            ]
          },
          "metadata": {
            "tags": []
          },
          "execution_count": 74
        }
      ]
    },
    {
      "cell_type": "code",
      "metadata": {
        "id": "GxCqMlwTsIkP",
        "colab_type": "code",
        "colab": {}
      },
      "source": [
        "def calcualte_fitness(chromosome,charging_path,distances,list_node):\n",
        "    # print(chromosome)\n",
        "    # print('sum chromsome', sum(chromosome))\n",
        "    t_wait = [0]*len(charging_path)\n",
        "    t_wait[0] = math.sqrt(list_node[charging_path[0]][0]**2 + list_node[charging_path[0]][1]**2)/paras['V']\n",
        "    e_pre = [list_node[i][3] for i in charging_path]\n",
        "    a = [list_node[i][2] for i in charging_path]\n",
        "    for i in range(1,len(charging_path)):\n",
        "        t_wait[i] = t_wait[i-1] + chromosome[i-1]*total_charging_time + distances[charging_path[i-1]][charging_path[i]]/ paras['V'] \n",
        "        # e_pre[i] -= t_wait[i] *list_node[charging_path[i]][2]\n",
        "    for i in range(len(charging_path)): \n",
        "        e_pre[i] = e_pre[i] +  5*  chromosome[i]*total_charging_time -  (t_wait[-1]-chromosome[i]*total_charging_time + chromosome[-1]*total_charging_time )*a[i]\n",
        "        # print(list_node[charging_path[i]][2])\n",
        "\n",
        "    # print(t_wait)\n",
        "    # print(\"Sum\",sum(t_wait))\n",
        "    # print(e_pre)\n",
        "    # print(list_node[charging_path[i]][2])\n",
        "    fitness = sum([1 if i < 540 else 0 for i in e_pre ])\n",
        "    return fitness\n"
      ],
      "execution_count": 0,
      "outputs": []
    },
    {
      "cell_type": "code",
      "metadata": {
        "id": "WtcO3P_fPRde",
        "colab_type": "code",
        "colab": {}
      },
      "source": [
        "a = [list_node[i][2] for i in charging_path]"
      ],
      "execution_count": 0,
      "outputs": []
    },
    {
      "cell_type": "code",
      "metadata": {
        "id": "T-N-izUi7IcC",
        "colab_type": "code",
        "colab": {}
      },
      "source": [
        "import numpy as np\n",
        "class Individual:\n",
        "    def __init__(self, input_value=0, init = False):\n",
        "        if init:\n",
        "            # charging_path = input_value\n",
        "            self.chromosome = [0.0] * len(charging_path)\n",
        "            mix_id = np.random.permutation(len(charging_path))\n",
        "\n",
        "            for i in mix_id[0: len(charging_path)-1]:\n",
        "                g = random.uniform(0,min(1-sum(self.chromosome),list_t_max[i]/total_charging_time))\n",
        "                self.chromosome[i] = g\n",
        "            self.chromosome[mix_id[-1]] = 1 -sum(self.chromosome)\n",
        "            self.fitness_score = calcualte_fitness(self.chromosome,charging_path,distances,list_node)\n",
        "        else:\n",
        "            self.chromosome = input_value\n",
        "            self.fitness_score = calcualte_fitness(self.chromosome,charging_path,distances,list_node)\n",
        "\n",
        "        \n",
        "    def get_fitness(self):\n",
        "        return self.fitness_score\n",
        "\n",
        "    def get_size(self):\n",
        "        return len(self.chromosome)\n",
        "\n",
        "    def mutate(self, list_t_max):\n",
        "        if random.random() < 0.4:\n",
        "            point1 = int(random.random() * self.get_size())\n",
        "            point2 = int(random.random() * self.get_size())\n",
        "            sigma1 = random.uniform(0,list_t_max[point1] - self.chromosome[point1])\n",
        "            sigma2 = random.uniform(0,list_t_max[point2]-self.chromosome[point1])\n",
        "            sigma = min(sigma1, sigma2)\n",
        "            while sigma > self.chromosome[point2]:\n",
        "                sigma1 = random.uniform(0,list_t_max[point1] - self.chromosome[point1])\n",
        "                sigma2 = random.uniform(0,list_t_max[point2]-self.chromosome[point1])\n",
        "                sigma = min(sigma1, sigma2)\n",
        "\n",
        "            self.chromosome[point1] +=sigma\n",
        "            self.chromosome[point2] -=sigma\n",
        "\n",
        "  "
      ],
      "execution_count": 0,
      "outputs": []
    },
    {
      "cell_type": "code",
      "metadata": {
        "id": "SQSdkBqJLcxt",
        "colab_type": "code",
        "colab": {}
      },
      "source": [
        "class Population():\n",
        "    def __init__(self, size_population):\n",
        "        # self.size = size\n",
        "        self.individuals = []\n",
        "        for i in range(size_population):\n",
        "            individual = Individual(init = True)\n",
        "            self.individuals.append(individual)\n",
        "        # print(len(self.individuals))\n",
        "\n",
        "    def get_size(self):\n",
        "        return len(self.individuals)\n",
        "\n",
        "    def get_individual(self, index):\n",
        "      return self.individuals[index]\n",
        "\n",
        "    def add_individual(self, individual):\n",
        "        self.individuals.append(individual)\n",
        "\n",
        "\n",
        "    def get_fittest(self):\n",
        "        fittest = self.individuals[0]\n",
        "        # print(\"len\", self.get_size())\n",
        "        for i in range(self.get_size()):\n",
        "            # print(\"dasd\",i,self.individuals[i].get_fitness())\n",
        "            if fittest.get_fitness() > self.individuals[i].get_fitness():\n",
        "                fittest = self.get_individual(i)\n",
        "                \n",
        "        # self.individuals = s\n",
        "        return fittest"
      ],
      "execution_count": 0,
      "outputs": []
    },
    {
      "cell_type": "code",
      "metadata": {
        "id": "_ym8BGQYMrME",
        "colab_type": "code",
        "colab": {}
      },
      "source": [
        "class GA:\n",
        "    def crossover(self, ind1, ind2,list_t_max):\n",
        "            return crossover(ind1, ind2 , list_t_max)\n",
        "\n",
        "    def crossover_population(self, population, num_of_pair):\n",
        "        for i in range(num_of_pair):\n",
        "            j1 = random.randint(0,population.get_size()-1)\n",
        "            j2 = random.randint(0,population.get_size()-1)\n",
        "            while j1==j2:\n",
        "                j2 = random.randint(0,population.get_size()-1)\n",
        "\n",
        "            child1, child2 = self.crossover(population.individuals[j1], population.individuals[j2], list_t_max)\n",
        "            # print(\"child1\",child1.chromosome)\n",
        "            population.add_individual(child1)\n",
        "            population.add_individual(child2)\n",
        "\n",
        "    def mutate_population(self, population):\n",
        "        for individual in population.individuals:\n",
        "            if random.random() < 0.2:\n",
        "                individual.mutate(list_t_max)\n",
        "    \n",
        "    def natureSelection(self, population,size):\n",
        "        population.individuals = sorted(population.individuals, key=Individual.get_fitness)[:size]\n",
        "\n",
        "\n",
        "    def run(self, population, number_loop):\n",
        "        for i in range(number_loop):\n",
        "            self.crossover_population(population,100)\n",
        "            self.mutate_population(population)\n",
        "            self.natureSelection(population,250)\n",
        "            print(\"loop\", i, \"best fitness\",population.get_fittest().get_fitness())\n",
        "            # print(\"loop\", i, \"best fitness\",population.get_fittest().chromosome)\n",
        "        print(\"Best solotion\",population.get_fittest().get_fitness())\n",
        "        print(\"Best solotion\",population.get_fittest().chromosome)"
      ],
      "execution_count": 0,
      "outputs": []
    },
    {
      "cell_type": "code",
      "metadata": {
        "id": "sY9Xgprj-kkh",
        "colab_type": "code",
        "colab": {
          "base_uri": "https://localhost:8080/",
          "height": 55
        },
        "outputId": "528d791f-3ecf-4936-c216-6e7bd137c792"
      },
      "source": [
        "sum(population.get_fittest().chromosome)\n",
        "print(list_t_max)"
      ],
      "execution_count": 80,
      "outputs": [
        {
          "output_type": "stream",
          "text": [
            "[0.1213468207868711, 0.12185033456606975, 0.13786821892217282, 0.27444794981703563, 0.22852864303830978, 0.27065373852924246, 0.12109662115638273, 0.12908101376010025, 0.14719764727028975, 0.15455752963380426, 0.2127965987711798, 0.1990910551215106, 0.13851854070954153, 0.2921983147305752, 0.15496533314207286, 0.1325775649229021, 0.134091007444853, 0.14017150658913036, 0.1435986827893536, 0.4286997172324497, 0.19383452561335185, 0.26455793360741264, 0.18296529987802373, 0.22246917144259706, 0.15620175867246175, 0.14646349441607387, 0.16637921037066744, 0.1505945160534503, 0.13198171069852946, 0.12059930443705466, 0.16780531788813033, 0.13983776490677527, 0.11913156442362194, 0.12965090786058633, 0.17073215482803958, 0.15959744907838486, 0.12084745115400332, 0.13317882372073836, 0.134091007444853, 0.11986094134866453, 0.13168578758037133, 0.15020936383847983, 0.14465975680011237, 0.134091007444853, 0.13439785185548195, 0.12630507798031315, 0.12261348906230818, 0.12312759174181472, 0.12235804429342836, 0.12059930443705466, 0.14118235880010965, 0.1334815028655582, 0.14324844209962345, 0.134091007444853, 0.1375453425312544, 0.1276779592627079, 0.1213468207868711, 0.12496140693796938, 0.12908101376010025, 0.13227896680370638, 0.134091007444853, 0.12390688029714264, 0.12993774615231335, 0.1334815028655582, 0.12965090786058633, 0.12993774615231335, 0.13658572386243167, 0.11913156442362194, 0.11937370174968621, 0.14831278096173137, 0.1285161077917847, 0.1236460237070434, 0.12287000263775232, 0.13168578758037133, 0.14152255725504967, 0.12059930443705466, 0.12010605574815054, 0.1391750266844683, 0.13080592708428868, 0.13022585645420315, 0.134091007444853, 0.12879794136150355, 0.13470610380927892, 0.12993774615231335, 0.12795612475129764, 0.13080592708428868, 0.13109790460010182, 0.13819261473140146, 0.13139118850301035, 0.13287751416480909, 0.12740100056582562, 0.12235804429342836, 0.12010605574815054, 0.12035217471484758, 0.13080592708428868, 0.13022585645420315, 0.1236460237070434, 0.12993774615231335, 0.13287751416480909, 0.12261348906230818, 0.1257641568754724, 0.12496140693796938, 0.12965090786058633, 0.1334815028655582, 0.12549543004454192, 0.1334815028655582, 0.1213468207868711, 0.13884600770885488, 0.1236460237070434, 0.12496140693796938, 0.14395064034520982, 0.14084379199243552, 0.12443190945094411, 0.13287751416480909, 0.12010605574815054, 0.12522784917024649, 0.1236460237070434, 0.12522784917024649, 0.1257641568754724, 0.12795612475129764, 0.13139118850301035, 0.12712524082434118, 0.13227896680370638, 0.12287000263775232, 0.1265772872000983, 0.11913156442362194, 0.155787430400121, 0.11913156442362194, 0.11986094134866453, 0.12312759174181472, 0.1276779592627079, 0.1213468207868711, 0.12312759174181472, 0.1285161077917847, 0.12496140693796938, 0.15415186682636647, 0.12685067226964497, 0.1213468207868711, 0.11889040741061864, 0.1479391971305935, 0.1362688196307323, 0.13022585645420315, 0.1276779592627079, 0.13080592708428868, 0.1221036616649597, 0.12010605574815054, 0.13080592708428868, 0.13198171069852946, 0.11865022476938507, 0.12712524082434118, 0.12035217471484758, 0.12261348906230818, 0.12010605574815054, 0.12549543004454192, 0.12261348906230818, 0.12603403704044125, 0.11865022476938507, 0.1265772872000983, 0.12235804429342836, 0.11937370174968621, 0.12312759174181472, 0.12740100056582562, 0.12312759174181472, 0.12059930443705466, 0.12109662115638273, 0.11986094134866453, 0.12185033456606975, 0.12630507798031315, 0.12603403704044125, 0.11961682537850432, 0.12390688029714264, 0.11961682537850432, 0.12338626315303702, 0.12390688029714264, 0.12469609609521363, 0.1221036616649597, 0.12287000263775232, 0.11986094134866453, 0.11865022476938507, 0.12965090786058633, 0.11889040741061864, 0.12261348906230818, 0.12109662115638273, 0.12338626315303702, 0.1213468207868711, 0.12159805644067415, 0.12059930443705466, 0.11986094134866453, 0.12549543004454192, 0.12823550493634414, 0.12159805644067415, 0.13022585645420315, 0.11913156442362194, 0.11913156442362194, 0.12059930443705466, 0.12010605574815054, 0.11961682537850432, 0.11937370174968621, 0.12287000263775232, 0.12287000263775232, 0.12159805644067415, 0.11961682537850432, 0.1334815028655582, 0.11889040741061864, 0.12469609609521363, 0.1221036616649597, 0.12084745115400332, 0.12312759174181472, 0.11889040741061864, 0.12630507798031315, 0.12685067226964497, 0.11889040741061864, 0.13287751416480909, 0.1221036616649597, 0.1265772872000983, 0.12010605574815054, 0.12059930443705466, 0.1257641568754724, 0.11961682537850432, 0.12084745115400332, 0.1236460237070434, 0.12159805644067415, 0.1236460237070434, 0.12287000263775232, 0.12416883987493786, 0.11913156442362194, 0.11961682537850432, 0.12338626315303702, 0.12338626315303702, 0.12109662115638273, 0.11986094134866453, 0.12084745115400332, 0.12159805644067415, 0.11889040741061864, 0.12469609609521363, 0.12185033456606975, 0.12469609609521363, 0.12235804429342836, 0.11769912076321767, 0.12035217471484758, 0.11865022476938507, 0.12109662115638273, 0.12185033456606975, 0.11769912076321767, 0.12185033456606975, 0.12443190945094411, 0.12010605574815054, 0.12390688029714264, 0.11889040741061864, 0.1257641568754724, 0.12035217471484758, 0.11913156442362194, 0.12235804429342836, 0.12603403704044125, 0.12035217471484758, 0.11937370174968621, 0.12261348906230818, 0.12010605574815054, 0.1213468207868711, 0.12630507798031315, 0.12010605574815054, 0.12109662115638273, 0.12109662115638273, 0.12059930443705466, 0.11889040741061864, 0.11986094134866453, 0.12159805644067415, 0.11913156442362194, 0.12469609609521363, 0.12549543004454192, 0.1213468207868711, 0.11937370174968621, 0.12059930443705466, 0.12059930443705466, 0.11889040741061864, 0.12035217471484758, 0.12010605574815054, 0.11913156442362194, 0.11913156442362194, 0.12010605574815054, 0.12496140693796938, 0.11937370174968621, 0.12035217471484758, 0.12059930443705466, 0.12261348906230818, 0.1213468207868711, 0.11986094134866453, 0.11961682537850432, 0.11889040741061864, 0.11865022476938507, 0.11937370174968621, 0.11961682537850432, 0.11986094134866453, 0.11889040741061864, 0.12261348906230818, 0.12084745115400332, 0.11889040741061864, 0.11961682537850432, 0.11937370174968621, 0.12010605574815054]\n"
          ],
          "name": "stdout"
        }
      ]
    },
    {
      "cell_type": "code",
      "metadata": {
        "id": "Q-vYSb8Q6dHv",
        "colab_type": "code",
        "colab": {
          "base_uri": "https://localhost:8080/",
          "height": 1000
        },
        "outputId": "22338982-ae21-459d-f3df-48222441fefc"
      },
      "source": [
        "random.seed(30)\n",
        "paras['number_loop'] = 100\n",
        "population = Population(paras['size_popu'])\n",
        "# population = Population(1)\n",
        "ga = GA()\n",
        "ga.run(population, paras['number_loop'])"
      ],
      "execution_count": 81,
      "outputs": [
        {
          "output_type": "stream",
          "text": [
            "loop 0 best fitness 130\n",
            "loop 1 best fitness 130\n",
            "loop 2 best fitness 130\n",
            "loop 3 best fitness 130\n",
            "loop 4 best fitness 130\n",
            "loop 5 best fitness 130\n",
            "loop 6 best fitness 130\n",
            "loop 7 best fitness 130\n",
            "loop 8 best fitness 130\n",
            "loop 9 best fitness 130\n",
            "loop 10 best fitness 130\n",
            "loop 11 best fitness 130\n",
            "loop 12 best fitness 130\n",
            "loop 13 best fitness 130\n",
            "loop 14 best fitness 130\n",
            "loop 15 best fitness 129\n",
            "loop 16 best fitness 129\n",
            "loop 17 best fitness 129\n",
            "loop 18 best fitness 129\n",
            "loop 19 best fitness 129\n",
            "loop 20 best fitness 129\n",
            "loop 21 best fitness 129\n",
            "loop 22 best fitness 129\n",
            "loop 23 best fitness 129\n",
            "loop 24 best fitness 129\n",
            "loop 25 best fitness 129\n",
            "loop 26 best fitness 129\n",
            "loop 27 best fitness 129\n",
            "loop 28 best fitness 129\n",
            "loop 29 best fitness 129\n",
            "loop 30 best fitness 129\n",
            "loop 31 best fitness 129\n",
            "loop 32 best fitness 129\n",
            "loop 33 best fitness 129\n",
            "loop 34 best fitness 129\n",
            "loop 35 best fitness 129\n",
            "loop 36 best fitness 129\n",
            "loop 37 best fitness 129\n",
            "loop 38 best fitness 129\n",
            "loop 39 best fitness 129\n",
            "loop 40 best fitness 129\n",
            "loop 41 best fitness 129\n",
            "loop 42 best fitness 129\n",
            "loop 43 best fitness 129\n",
            "loop 44 best fitness 129\n",
            "loop 45 best fitness 129\n",
            "loop 46 best fitness 129\n",
            "loop 47 best fitness 129\n",
            "loop 48 best fitness 129\n",
            "loop 49 best fitness 129\n",
            "loop 50 best fitness 129\n",
            "loop 51 best fitness 129\n",
            "loop 52 best fitness 129\n",
            "loop 53 best fitness 129\n",
            "loop 54 best fitness 129\n",
            "loop 55 best fitness 129\n",
            "loop 56 best fitness 129\n",
            "loop 57 best fitness 129\n",
            "loop 58 best fitness 129\n",
            "loop 59 best fitness 129\n",
            "loop 60 best fitness 129\n",
            "loop 61 best fitness 129\n",
            "loop 62 best fitness 129\n",
            "loop 63 best fitness 129\n",
            "loop 64 best fitness 129\n",
            "loop 65 best fitness 129\n",
            "loop 66 best fitness 129\n",
            "loop 67 best fitness 129\n",
            "loop 68 best fitness 129\n",
            "loop 69 best fitness 129\n",
            "loop 70 best fitness 129\n",
            "loop 71 best fitness 129\n",
            "loop 72 best fitness 129\n",
            "loop 73 best fitness 129\n",
            "loop 74 best fitness 129\n",
            "loop 75 best fitness 129\n",
            "loop 76 best fitness 129\n",
            "loop 77 best fitness 129\n",
            "loop 78 best fitness 129\n",
            "loop 79 best fitness 129\n",
            "loop 80 best fitness 129\n",
            "loop 81 best fitness 129\n",
            "loop 82 best fitness 129\n",
            "loop 83 best fitness 129\n",
            "loop 84 best fitness 129\n",
            "loop 85 best fitness 129\n",
            "loop 86 best fitness 129\n",
            "loop 87 best fitness 129\n",
            "loop 88 best fitness 129\n",
            "loop 89 best fitness 129\n",
            "loop 90 best fitness 129\n",
            "loop 91 best fitness 129\n",
            "loop 92 best fitness 129\n",
            "loop 93 best fitness 129\n",
            "loop 94 best fitness 129\n",
            "loop 95 best fitness 129\n",
            "loop 96 best fitness 129\n",
            "loop 97 best fitness 129\n",
            "loop 98 best fitness 129\n",
            "loop 99 best fitness 129\n",
            "Best solotion 129\n",
            "Best solotion [3.858891185918707e-07, 3.360229727039179e-07, 0.18319609984340765, 0.0006264070466706234, 2.7575196894301572e-06, 6.31509752287751e-06, 5.678547087642761e-06, 2.5623881852490603e-06, 2.690358712174581e-06, 2.5449362782179908e-06, 5.102321393724856e-06, 5.438088456709919e-06, 2.221867248445859e-06, 4.598016537994801e-06, 3.6173426570661115e-06, 1.3750100417960177e-07, 2.2272985849014847e-06, 9.859708197265363e-07, 5.471422133645651e-06, 1.6751585555329176e-05, 4.63274836741646e-06, 6.757328974119339e-06, 3.1843351630713192e-06, 6.717120534373526e-08, 6.183318788108779e-06, 5.658924266040392e-07, 5.064391066431952e-06, 2.9405146768950258e-06, 3.6847862316602313e-06, 4.489840881386016e-06, 2.0308592916885003e-06, 2.109821592558506e-06, 6.657104076993132e-06, 2.620232168620149e-06, 4.078033991042421e-06, 6.283919072577152e-06, 9.135346901699243e-07, 2.883605705438015e-06, 2.300458534308763e-06, 2.4125012114477226e-06, 2.8289539281519535e-07, 5.7476542629702885e-06, 2.43702520071774e-06, 3.314343033065332e-06, 3.085739322724284e-06, 1.2386152163418591e-06, 1.6650995999994263e-06, 1.8133986594814927e-06, 3.6260161537630536e-06, 3.0053484687596097e-06, 2.1724145950184245e-06, 4.511303308637111e-06, 6.673821206957616e-06, 1.1714833101390226e-06, 5.74245786671489e-06, 5.8027126346349954e-06, 1.410725540795691e-06, 1.885109754708035e-06, 1.8420752317672039e-06, 1.2111163286812354e-06, 2.413425836378601e-06, 9.824493855439768e-07, 4.3506739544115715e-06, 2.25061811001757e-06, 4.895513843533865e-09, 1.3615656953695058e-06, 4.6733122902649995e-06, 4.716934448409044e-06, 4.164769620753522e-06, 5.044090571141014e-06, 1.3055411287386713e-06, 4.273630486224593e-06, 1.7261801554170263e-06, 2.2964040914641273e-06, 5.247026601817937e-06, 5.078691196236719e-06, 3.3566685170909205e-06, 1.249793943831155e-06, 4.801748487345316e-06, 3.6802484969515284e-07, 7.593144269954596e-07, 8.260779946189118e-07, 6.08223120466955e-06, 4.4083353776384296e-07, 2.3283535711905454e-06, 1.3323766590297663e-06, 1.9889882269478296e-07, 2.9227506379407815e-07, 2.5411376658567377e-06, 1.5197681409952505e-06, 4.980217146022787e-06, 3.7406755073629344e-06, 3.272561572045067e-06, 5.085595110937644e-06, 3.254934622118343e-06, 2.7855575657819226e-06, 4.61953744277362e-07, 3.3837293754313632e-06, 2.680641802376692e-06, 1.1149715221539994e-06, 3.929442540909679e-06, 1.0926404359346995e-06, 5.72769960821287e-06, 2.3259761448364978e-07, 2.7161112058948755e-06, 5.0118046779689455e-06, 5.04728523747312e-06, 0.18927406577645178, 0.07015905473954656, 0.028101325229329174, 0.02691970063276476, 0.026902671801389152, 0.05254851417288776, 0.01986967655249239, 0.0449210150337429, 0.06681845063241064, 0.012511748831941042, 0.07300260890619517, 0.017203532671296557, 0.10049945243921504, 0.03037061317506917, 0.05471000026722421, 0.00046790140076788156, 6.668815576950864e-05, 0.0008334745473320811, 0.0001748025612576989, 1.203127218771816e-05, 4.443451327109114e-06, 1.5508897118162087e-06, 2.8650137095518917e-06, 5.328960997763609e-06, 3.4788591448838495e-06, 2.860353519301732e-06, 5.044724002357124e-06, 1.5961549965379679e-06, 6.280148594110839e-06, 2.354435162606516e-06, 1.883813037814741e-06, 3.819038206442575e-06, 2.2719158941834577e-06, 1.454961979933691e-06, 2.897430587039362e-06, 3.6770433660313134e-07, 2.3574816104664322e-07, 2.344921951073113e-06, 9.466004504431084e-07, 4.548761650604929e-06, 1.5581545377917728e-06, 5.472184231834584e-06, 6.941604629292363e-08, 2.8808025558004314e-06, 1.1107887756589373e-06, 3.002512078737264e-06, 5.684097955096746e-06, 1.9375107125343664e-06, 4.503563702034927e-06, 6.542714414829339e-07, 2.792417837954178e-06, 2.7370198240069035e-06, 5.256852865578671e-06, 2.183011334605105e-06, 2.5432886682311843e-06, 3.982927771576007e-06, 2.04210430207973e-06, 1.3780343382982945e-06, 2.7346187941006295e-06, 5.145137380871794e-06, 1.9976203073695755e-06, 3.9903441794051824e-06, 3.884937683068614e-06, 3.028813206382607e-07, 2.554280218190359e-07, 1.8032613129192506e-06, 2.716159474721421e-06, 1.9503058190531808e-06, 1.7138030053274657e-08, 5.562791872162715e-06, 2.9897573406844183e-06, 5.516752287547594e-06, 1.3517605539974631e-06, 1.6319132910445468e-06, 3.4595257000591616e-06, 3.827734143162031e-06, 4.3416281500044655e-06, 3.0272110613497596e-06, 5.485593576751948e-06, 3.7275634030228708e-06, 2.9861408175610214e-07, 4.593709751498764e-06, 3.758091622825469e-07, 1.056570610369351e-06, 4.141985016747036e-06, 4.945498022791017e-06, 2.0653093594350384e-06, 3.6874858888835836e-06, 3.1280038408936595e-06, 1.2390121442741085e-06, 2.71041616052164e-06, 2.622190655180117e-07, 3.1393744246767234e-08, 2.6946332579265006e-06, 2.744317611553498e-06, 3.715781136193849e-07, 6.52464540156219e-07, 4.067225129412918e-06, 2.44921938401393e-06, 5.083767617410521e-06, 7.990506652449874e-07, 4.822175624554217e-06, 3.792213003776955e-06, 4.001061171130626e-06, 3.199037274936927e-06, 4.177364529660426e-06, 5.593188612830155e-06, 2.5741275035826964e-06, 4.838290189679101e-06, 3.6581702213190606e-06, 2.068594413867794e-06, 8.570693980526422e-07, 4.023032764906267e-06, 4.507768162730926e-06, 2.899037765175535e-06, 2.967819612293905e-06, 4.4392029097764047e-07, 2.319138712461745e-06, 1.2252336902677973e-06, 4.256106816229881e-06, 5.757649382163821e-07, 3.2858906772563347e-06, 5.319053219239195e-06, 2.5308302654399218e-06, 3.2039906562086925e-06, 4.360804581849394e-06, 4.3607098706857206e-08, 1.8358395487075179e-06, 6.837201235287402e-07, 2.719374648343456e-06, 1.189044427530696e-06, 2.2723094422001446e-06, 1.5677475477546882e-06, 2.7017441044895505e-06, 1.8304141765450511e-06, 7.143405345417127e-07, 3.8523721577952827e-07, 5.141317868098375e-06, 2.73899523568312e-06, 1.4247961142938543e-06, 4.2798526468743115e-06, 4.377743434073105e-06, 2.8963044896406743e-06, 3.399652279101783e-06, 3.944050176607978e-08, 3.125666339507545e-06, 1.302069906544363e-06, 2.216767618539814e-06, 1.6975330737805034e-06, 1.1315035513898195e-06, 1.285087800184578e-06, 2.1498590151124513e-06, 5.744726274335922e-06, 4.0599469367736815e-06, 1.8178542257432558e-06, 2.271750238471684e-06, 3.291734216586559e-06, 5.146657140555093e-06, 5.36549779279784e-06, 1.1029123697999681e-06, 2.160606898352949e-06, 3.0201507455872436e-06, 5.38410141454965e-06, 1.8328722127092902e-06, 3.1657057190043988e-06, 4.274785936125739e-06, 9.73382515047405e-07, 1.0187109232694679e-06, 4.8248237847769425e-08, 2.7353511305735773e-06, 5.000564957642367e-06, 3.7825462639670503e-06, 5.391912382625517e-06, 2.48316371315474e-06, 2.2772711761106007e-06, 1.145442730722278e-06, 3.4525636641877135e-07, 3.296317737516459e-07, 2.0845034329825386e-06, 4.111513985615484e-06, 5.1075763327503316e-06, 2.4787237284496955e-06, 3.440601601963359e-06, 5.2624624906813915e-06, 7.263734853079996e-07, 1.9436734977444255e-06, 1.1766546175272597e-06, 2.198389247870373e-06, 4.0431833294005895e-06, 1.6329636872175563e-06, 3.0506921599632225e-06, 3.2961820006417675e-06, 1.2481128223470156e-05]\n"
          ],
          "name": "stdout"
        }
      ]
    },
    {
      "cell_type": "code",
      "metadata": {
        "id": "pfzrKnDiPqYx",
        "colab_type": "code",
        "colab": {}
      },
      "source": [
        "# a = [list_node[i][2] for i in charging_path]\n",
        "# a"
      ],
      "execution_count": 0,
      "outputs": []
    },
    {
      "cell_type": "code",
      "metadata": {
        "id": "-07C5ff8PNTk",
        "colab_type": "code",
        "colab": {}
      },
      "source": [
        "# parent1 = Individual([0.12,0.23,0.13,0.18,0.02,0.32])\n",
        "# parent2 = Individual([0.10,0.13,0.19,0.16,0.21,0.21])"
      ],
      "execution_count": 0,
      "outputs": []
    },
    {
      "cell_type": "code",
      "metadata": {
        "id": "VL4QEIoPL3iy",
        "colab_type": "code",
        "colab": {}
      },
      "source": [
        "def crossover(parent1, parent2 , list_t_max):\n",
        "        num_of_gene = parent1.get_size()\n",
        "        # t1 = sum(parent2.chromosome)\n",
        "        # print(t1)\n",
        "        # t2 = sum(parent1.chromosome)\n",
        "        # print(t2)\n",
        "        # cutting_point = random.randint(0,num_of_gene-1)\n",
        "        chromosome1 = [None]*num_of_gene\n",
        "        chromosome2 = [None]*num_of_gene\n",
        "        cutting_point =3\n",
        "        chromosome1[:cutting_point] = parent1.chromosome[:cutting_point]\n",
        "        chromosome2[:cutting_point] = parent2.chromosome[:cutting_point]\n",
        "        # beta = random.uniform(-0.5, 0.5)\n",
        "        beta = 0.18/0.16 -1\n",
        "        chromosome1[cutting_point] = (1-beta)*parent1.chromosome[cutting_point] + beta*parent2.chromosome[cutting_point]\n",
        "        chromosome2[cutting_point] = (1-beta)*parent2.chromosome[cutting_point] + beta*parent1.chromosome[cutting_point]\n",
        "        chromosome1[cutting_point+1:] = parent2.chromosome[cutting_point+1:]\n",
        "        chromosome2[cutting_point+1:] = parent1.chromosome[cutting_point+1:]\n",
        "        # for i in range(num_of_gene):\n",
        "        #     # print(i)\n",
        "        #     if parent1.chromosome[i] not in chromosome2:\n",
        "        #         chromosome2.append(parent1.chromosome[i])\n",
        "        #     if parent2.chromosome[i] not in chromosome1:\n",
        "        #         chromosome1.append(parent2.chromosome[i])\n",
        "        if sum(chromosome1) > 1:\n",
        "            chromosome1 =[i/sum(chromosome1) for i in chromosome1]\n",
        "            for i in range(len(chromosome2)-1):\n",
        "                g = random.uniform(0,min(1-sum(chromosome2),list_t_max[i] -chromosome2[i]))\n",
        "                chromosome2[i] += g\n",
        "            if ()\n",
        "            chromosome2[-1] = 1 - sum(chromosome2[:-2])\n",
        "\n",
        "        else:\n",
        "            chromosome2 =[i/sum(chromosome2) for i in chromosome2]\n",
        "            for i in range(len(chromosome1)-1):\n",
        "                g = random.uniform(0,min(1-sum(chromosome1),list_t_max[i] - chromosome1[i]))\n",
        "                chromosome1[i] += g\n",
        "            chromosome1[-1] = 1 - sum(chromosome1[:-2])\n",
        "\n",
        "\n",
        "        child1 = Individual(chromosome1)\n",
        "        child2 = Individual(chromosome2)\n",
        "        return child1, child2"
      ],
      "execution_count": 0,
      "outputs": []
    },
    {
      "cell_type": "code",
      "metadata": {
        "id": "qh0G1pd-RHTb",
        "colab_type": "code",
        "colab": {}
      },
      "source": [
        "# t1"
      ],
      "execution_count": 0,
      "outputs": []
    },
    {
      "cell_type": "code",
      "metadata": {
        "id": "cHok8PPFPcVq",
        "colab_type": "code",
        "colab": {
          "base_uri": "https://localhost:8080/",
          "height": 35
        },
        "outputId": "ef4c48f8-9f90-4cbc-9c4a-07190f4cf7de"
      },
      "source": [
        "a,b = crossover( parent1, parent2,[0.2,0.14,0.3,0.3,0.3,0.3])"
      ],
      "execution_count": 87,
      "outputs": [
        {
          "output_type": "stream",
          "text": [
            "asd\n"
          ],
          "name": "stdout"
        }
      ]
    },
    {
      "cell_type": "code",
      "metadata": {
        "id": "8ww55P4wPjag",
        "colab_type": "code",
        "colab": {
          "base_uri": "https://localhost:8080/",
          "height": 54
        },
        "outputId": "cf327fb4-a64e-454a-c524-1d61e1ecb3ff"
      },
      "source": [
        "print(a.chromosome)\n",
        "print(sum(a.chromosome))"
      ],
      "execution_count": 73,
      "outputs": [
        {
          "output_type": "stream",
          "text": [
            "[0.11136890951276103, 0.2134570765661253, 0.12064965197215778, 0.16473317865429235, 0.1948955916473318, 0.1948955916473318]\n",
            "1.0\n"
          ],
          "name": "stdout"
        }
      ]
    },
    {
      "cell_type": "code",
      "metadata": {
        "id": "VQ5GFp8hP1ZF",
        "colab_type": "code",
        "colab": {
          "base_uri": "https://localhost:8080/",
          "height": 54
        },
        "outputId": "fd0c2ccb-d161-46aa-8c1a-7d4d5ac3ec56"
      },
      "source": [
        "print(b.chromosome)\n",
        "print(sum(b.chromosome))"
      ],
      "execution_count": 88,
      "outputs": [
        {
          "output_type": "stream",
          "text": [
            "[0.1420837210104195, 0.1397107637191077, 0.21113632944749428, 0.1629838665235641, 0.022352920989539487, 0.34408531929941444]\n",
            "1.0223529209895394\n"
          ],
          "name": "stdout"
        }
      ]
    },
    {
      "cell_type": "code",
      "metadata": {
        "id": "fSy-hgfGQOI2",
        "colab_type": "code",
        "colab": {}
      },
      "source": [
        ""
      ],
      "execution_count": 0,
      "outputs": []
    }
  ]
}