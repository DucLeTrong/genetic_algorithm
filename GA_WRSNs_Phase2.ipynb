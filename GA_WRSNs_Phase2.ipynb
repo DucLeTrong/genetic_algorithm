{
  "nbformat": 4,
  "nbformat_minor": 0,
  "metadata": {
    "colab": {
      "name": "GA_WRSNs_Phase2.ipynb",
      "provenance": [],
      "collapsed_sections": [],
      "authorship_tag": "ABX9TyN98QbGqvt24l6QFTeHZHzu",
      "include_colab_link": true
    },
    "kernelspec": {
      "name": "python3",
      "display_name": "Python 3"
    }
  },
  "cells": [
    {
      "cell_type": "markdown",
      "metadata": {
        "id": "view-in-github",
        "colab_type": "text"
      },
      "source": [
        "<a href=\"https://colab.research.google.com/github/DucLeTrong/genetic_algorithm/blob/master/GA_WRSNs_Phase2.ipynb\" target=\"_parent\"><img src=\"https://colab.research.google.com/assets/colab-badge.svg\" alt=\"Open In Colab\"/></a>"
      ]
    },
    {
      "cell_type": "code",
      "metadata": {
        "id": "wTEv5wjd9cdz",
        "colab_type": "code",
        "colab": {}
      },
      "source": [
        "import random\n",
        "random.seed( 30 )\n",
        "import math\n",
        "paras = {}\n",
        "f = open('1.txt','r')\n",
        "list_node = []\n",
        "for x in f:\n",
        "    list_node.append([float(i) for i in x.split(\" \")])\n",
        "paras[\"list_node\"] = list_node\n",
        "def calcualte_distances(list_node):\n",
        "    distances =[[None]*len(list_node) for i in range(len(list_node))] \n",
        "    for i in range(len(list_node)):\n",
        "        for j in range(len(list_node)):\n",
        "            distances[i][j] = math.sqrt((list_node[i][0]-list_node[j][0])**2 + (list_node[i][1]-list_node[j][1])**2)\n",
        "\n",
        "    # print(distances)\n",
        "    return distances\n",
        "paras['distances'] = calcualte_distances(list_node)\n",
        "# distances[1][2]\n",
        "paras['V'] = 5\n",
        "paras['ALPHA'] = 0.5\n",
        "paras['num_of_gens'] = len(paras['list_node'])\n",
        "paras['size_popu'] = 100\n",
        "paras[\"U\"] = 5\n",
        "paras['E_MC'] = 108000\n",
        "paras[\"P_M\"] = 1"
      ],
      "execution_count": 0,
      "outputs": []
    },
    {
      "cell_type": "code",
      "metadata": {
        "id": "MDQ4fx4sCpN4",
        "colab_type": "code",
        "colab": {}
      },
      "source": [
        "# list_node = []\n",
        "# f = open('2.txt','r')\n",
        "# for x in f:\n",
        "#     list_node.append([float(i) for i in x.split(\" \")])\n",
        "# paras['E_MC'] = 108000\n",
        "# paras[\"P_M\"] = 1\n",
        "# paras['V'] = 5\n",
        "# list_t_max= [i[3]- 540 for i in list_node]"
      ],
      "execution_count": 0,
      "outputs": []
    },
    {
      "cell_type": "code",
      "metadata": {
        "id": "gqkstk31_I2V",
        "colab_type": "code",
        "colab": {}
      },
      "source": [
        "f = open(\"1-result.txt\",'r')\n",
        "# print(f.readline())\n",
        "# x = f.readline()\n",
        "# x.split(' ')\n",
        "charging_path = [int(i)-1 for i in f.readline().split(' ')[:-1]]\n",
        "\n",
        "# charging_path "
      ],
      "execution_count": 0,
      "outputs": []
    },
    {
      "cell_type": "code",
      "metadata": {
        "id": "StZXw4Y-__VI",
        "colab_type": "code",
        "colab": {}
      },
      "source": [
        "\n",
        "S = 0\n",
        "for i in range(1,len(charging_path)):\n",
        "    S += paras['distances'][charging_path[i]][charging_path[i-1]]\n",
        "total_charging_time = (paras['E_MC'] - (S*paras[\"P_M\"] / paras['V'])) / paras[\"U\"]\n",
        "list_t_max= [(10800- 540)/(paras[\"U\"] - list_node[i][2])/total_charging_time for i in charging_path]\n",
        "\n",
        "distances = paras['distances']\n"
      ],
      "execution_count": 0,
      "outputs": []
    },
    {
      "cell_type": "code",
      "metadata": {
        "id": "GxCqMlwTsIkP",
        "colab_type": "code",
        "colab": {}
      },
      "source": [
        "def calcualte_fitness(chromosome,charging_path,distances,list_node):\n",
        "    t_wait = [0]*len(charging_path)\n",
        "    e_pre = [list_node[i][3] for i in charging_path]\n",
        "    for i in range(1,len(charging_path)):\n",
        "        t_wait[i] = t_wait[i-1] + chromosome[i-1]* + distances[charging_path[i-1]][charging_path[i]]/ paras['V'] /total_charging_time\n",
        "        e_pre[i] -= t_wait[i] *list_node[charging_path[i]][2]\n",
        "    fitness = sum([1 if i < 540 else 0 for i in e_pre ])\n",
        "    return fitness\n"
      ],
      "execution_count": 0,
      "outputs": []
    },
    {
      "cell_type": "code",
      "metadata": {
        "id": "T-N-izUi7IcC",
        "colab_type": "code",
        "colab": {}
      },
      "source": [
        "import numpy as np\n",
        "class Individual:\n",
        "    def __init__(self, input_value=0, init = False):\n",
        "        if init:\n",
        "            # charging_path = input_value\n",
        "            self.chromosome = [0.0] * len(charging_path)\n",
        "            mix_id = np.random.permutation(len(charging_path))\n",
        "\n",
        "            for i in mix_id[0: len(charging_path)-1]:\n",
        "                g = random.uniform(0,min(1-sum(self.chromosome),list_t_max[i]/total_charging_time))\n",
        "                self.chromosome[i] = g\n",
        "            self.chromosome[mix_id[-1]] = 1 -sum(self.chromosome)\n",
        "            self.fitness_score = calcualte_fitness(self.chromosome,charging_path,distances,list_node)\n",
        "        else:\n",
        "            self.chromosome = input_value\n",
        "            self.fitness_score = calcualte_fitness(self.chromosome,charging_path,distances,list_node)\n",
        "\n",
        "        \n",
        "    def get_fitness(self):\n",
        "        return self.fitness_score\n",
        "\n",
        "    def get_size(self):\n",
        "        return len(self.chromosome)\n",
        "\n",
        "    def mutate(self, list_t_max):\n",
        "        if random.random() < 0.4:\n",
        "            point1 = int(random.random() * self.get_size())\n",
        "            point2 = int(random.random() * self.get_size())\n",
        "            sigma1 = random.uniform(0,list_t_max[point1] - self.chromosome[point1])\n",
        "            sigma2 = random.uniform(0,list_t_max[point2]-self.chromosome[point1])\n",
        "            sigma = min(sigma1, sigma2)\n",
        "            self.chromosome[point1] +=sigma\n",
        "            self.chromosome[point2] -=sigma\n",
        "\n",
        "  "
      ],
      "execution_count": 0,
      "outputs": []
    },
    {
      "cell_type": "code",
      "metadata": {
        "id": "SQSdkBqJLcxt",
        "colab_type": "code",
        "colab": {}
      },
      "source": [
        "class Population():\n",
        "    def __init__(self, size_population):\n",
        "        # self.size = size\n",
        "        self.individuals = []\n",
        "        for i in range(size_population):\n",
        "            individual = Individual(init = True)\n",
        "            self.individuals.append(individual)\n",
        "        print(len(self.individuals))\n",
        "\n",
        "    def get_size(self):\n",
        "        return len(self.individuals)\n",
        "\n",
        "    def get_individual(self, index):\n",
        "      return self.individuals[index]\n",
        "\n",
        "    def add_individual(self, individual):\n",
        "        self.individuals.append(individual)\n",
        "\n",
        "\n",
        "    def get_fittest(self):\n",
        "        fittest = self.individuals[0]\n",
        "        # print(\"len\", self.get_size())\n",
        "        for i in range(self.get_size()):\n",
        "            # print(\"dasd\",i,self.individuals[i].get_fitness())\n",
        "            if fittest.get_fitness() > self.individuals[i].get_fitness():\n",
        "                fittest = self.get_individual(i)\n",
        "                \n",
        "        # self.individuals = s\n",
        "        return fittest"
      ],
      "execution_count": 0,
      "outputs": []
    },
    {
      "cell_type": "code",
      "metadata": {
        "id": "_ym8BGQYMrME",
        "colab_type": "code",
        "colab": {}
      },
      "source": [
        "class GA:\n",
        "    def crossover(self, ind1, ind2,list_t_max):\n",
        "            return crossover(ind1, ind2 , list_t_max)\n",
        "\n",
        "    def crossover_population(self, population, num_of_pair):\n",
        "        for i in range(num_of_pair):\n",
        "            j1 = random.randint(0,population.get_size()-1)\n",
        "            j2 = random.randint(0,population.get_size()-1)\n",
        "            while j1==j2:\n",
        "                j2 = random.randint(0,population.get_size()-1)\n",
        "\n",
        "            child1, child2 = self.crossover(population.individuals[j1], population.individuals[j2], list_t_max)\n",
        "            population.add_individual(child1)\n",
        "            population.add_individual(child2)\n",
        "\n",
        "    def mutate_population(self, population):\n",
        "        for individual in population.individuals:\n",
        "            if random.random() < 0.2:\n",
        "                individual.mutate(list_t_max)\n",
        "    \n",
        "    def natureSelection(self, population,size):\n",
        "        population.individuals = sorted(population.individuals, key=Individual.get_fitness)[:size]\n",
        "\n",
        "\n",
        "    def run(self, population, number_loop):\n",
        "        for i in range(number_loop):\n",
        "            self.crossover_population(population,100)\n",
        "            self.mutate_population(population)\n",
        "            self.natureSelection(population,250)\n",
        "            print(\"loop\", i, \"best fitness\",population.get_fittest().get_fitness())\n",
        "        print(\"Best solotion\",population.get_fittest().get_fitness())\n",
        "        print(\"Best solotion\",population.get_fittest().chromosome)"
      ],
      "execution_count": 0,
      "outputs": []
    },
    {
      "cell_type": "code",
      "metadata": {
        "id": "sY9Xgprj-kkh",
        "colab_type": "code",
        "colab": {
          "base_uri": "https://localhost:8080/",
          "height": 35
        },
        "outputId": "116aaf42-92d4-4ff2-a4ac-8fc4423b7bf4"
      },
      "source": [
        "sum(population.get_fittest().chromosome)"
      ],
      "execution_count": 137,
      "outputs": [
        {
          "output_type": "execute_result",
          "data": {
            "text/plain": [
              "1.0"
            ]
          },
          "metadata": {
            "tags": []
          },
          "execution_count": 137
        }
      ]
    },
    {
      "cell_type": "code",
      "metadata": {
        "id": "Q-vYSb8Q6dHv",
        "colab_type": "code",
        "colab": {
          "base_uri": "https://localhost:8080/",
          "height": 1000
        },
        "outputId": "aec7c82f-3d11-4dd7-d165-760b69fdbf49"
      },
      "source": [
        "random.seed(30)\n",
        "paras['number_loop'] = 100\n",
        "population = Population(paras['size_popu'])\n",
        "ga = GA()\n",
        "ga.run(population, paras['number_loop'])"
      ],
      "execution_count": 135,
      "outputs": [
        {
          "output_type": "stream",
          "text": [
            "100\n",
            "loop 0 best fitness 0\n",
            "loop 1 best fitness 0\n",
            "loop 2 best fitness 0\n",
            "loop 3 best fitness 0\n",
            "loop 4 best fitness 0\n",
            "loop 5 best fitness 0\n",
            "loop 6 best fitness 0\n",
            "loop 7 best fitness 0\n",
            "loop 8 best fitness 0\n",
            "loop 9 best fitness 0\n",
            "loop 10 best fitness 0\n",
            "loop 11 best fitness 0\n",
            "loop 12 best fitness 0\n",
            "loop 13 best fitness 0\n",
            "loop 14 best fitness 0\n",
            "loop 15 best fitness 0\n",
            "loop 16 best fitness 0\n",
            "loop 17 best fitness 0\n",
            "loop 18 best fitness 0\n",
            "loop 19 best fitness 0\n",
            "loop 20 best fitness 0\n",
            "loop 21 best fitness 0\n",
            "loop 22 best fitness 0\n",
            "loop 23 best fitness 0\n",
            "loop 24 best fitness 0\n",
            "loop 25 best fitness 0\n",
            "loop 26 best fitness 0\n",
            "loop 27 best fitness 0\n",
            "loop 28 best fitness 0\n",
            "loop 29 best fitness 0\n",
            "loop 30 best fitness 0\n",
            "loop 31 best fitness 0\n",
            "loop 32 best fitness 0\n",
            "loop 33 best fitness 0\n",
            "loop 34 best fitness 0\n",
            "loop 35 best fitness 0\n",
            "loop 36 best fitness 0\n",
            "loop 37 best fitness 0\n",
            "loop 38 best fitness 0\n",
            "loop 39 best fitness 0\n",
            "loop 40 best fitness 0\n",
            "loop 41 best fitness 0\n",
            "loop 42 best fitness 0\n",
            "loop 43 best fitness 0\n",
            "loop 44 best fitness 0\n",
            "loop 45 best fitness 0\n",
            "loop 46 best fitness 0\n",
            "loop 47 best fitness 0\n",
            "loop 48 best fitness 0\n",
            "loop 49 best fitness 0\n",
            "loop 50 best fitness 0\n",
            "loop 51 best fitness 0\n",
            "loop 52 best fitness 0\n",
            "loop 53 best fitness 0\n",
            "loop 54 best fitness 0\n",
            "loop 55 best fitness 0\n",
            "loop 56 best fitness 0\n",
            "loop 57 best fitness 0\n",
            "loop 58 best fitness 0\n",
            "loop 59 best fitness 0\n",
            "loop 60 best fitness 0\n",
            "loop 61 best fitness 0\n",
            "loop 62 best fitness 0\n",
            "loop 63 best fitness 0\n",
            "loop 64 best fitness 0\n",
            "loop 65 best fitness 0\n",
            "loop 66 best fitness 0\n",
            "loop 67 best fitness 0\n",
            "loop 68 best fitness 0\n",
            "loop 69 best fitness 0\n",
            "loop 70 best fitness 0\n",
            "loop 71 best fitness 0\n",
            "loop 72 best fitness 0\n",
            "loop 73 best fitness 0\n",
            "loop 74 best fitness 0\n",
            "loop 75 best fitness 0\n",
            "loop 76 best fitness 0\n",
            "loop 77 best fitness 0\n",
            "loop 78 best fitness 0\n",
            "loop 79 best fitness 0\n",
            "loop 80 best fitness 0\n",
            "loop 81 best fitness 0\n",
            "loop 82 best fitness 0\n",
            "loop 83 best fitness 0\n",
            "loop 84 best fitness 0\n",
            "loop 85 best fitness 0\n",
            "loop 86 best fitness 0\n",
            "loop 87 best fitness 0\n",
            "loop 88 best fitness 0\n",
            "loop 89 best fitness 0\n",
            "loop 90 best fitness 0\n",
            "loop 91 best fitness 0\n",
            "loop 92 best fitness 0\n",
            "loop 93 best fitness 0\n",
            "loop 94 best fitness 0\n",
            "loop 95 best fitness 0\n",
            "loop 96 best fitness 0\n",
            "loop 97 best fitness 0\n",
            "loop 98 best fitness 0\n",
            "loop 99 best fitness 0\n",
            "Best solotion 0\n",
            "Best solotion [0.09745262710006447, 5.071438273585376e-06, 4.571727111992926e-06, 1.3056868284990548e-06, 0.0296494745990016, 4.779696153472083e-06, 6.530191208638569e-07, 4.523830634105931e-06, 2.0771326659925577e-06, 4.066731228377083e-06, 4.641918018353564e-06, 5.197752988525582e-06, 0.00798881516853789, 1.7821762744061707e-06, 3.718340629438756e-06, 5.873428691907041e-06, 5.711540556999976e-06, 7.267235288623264e-06, 6.172370751442253e-06, 3.1839835003011424e-06, 6.36917714436106e-06, 4.643251262390922e-06, 5.427790142575766e-06, 5.07657003697538e-06, 2.6144144590485654e-06, 6.7658385854696495e-06, 2.3105367860742784e-06, 2.0535979257179673e-06, 2.7677890830839476e-06, 4.737845458271735e-06, 2.3207994823514248e-07, 2.540785934007434e-06, 0.9992200697052646, 2.7858363694849274e-06, 1.8249365382367414e-07, 4.00117160550277e-06, 3.0232720208569323e-06, 4.0185406344692405e-06, 4.126447783068384e-06, 0.060974896722335, 4.104847261012388e-06, 4.1567563021972425e-06, 6.0189068723101975e-06, 2.6784728365035103e-06, 5.533208632543367e-06, -0.026977910642110702, 1.987310809476007e-06, 5.766612007657393e-06, 4.848184722285011e-06, 5.81701339401913e-06, 4.064521397296374e-06, 2.1216496449564593e-06, -0.04731082196276811, 5.097398636457504e-06, 4.618690941615838e-06, 5.227742141981022e-07, 2.7288707766252667e-06, 4.8024080233053265e-06, 7.040813080852861e-07, 4.881970253446649e-07, 4.206090382490635e-07, 6.165539468275791e-07, 4.147047658321272e-06, 2.7476736564527735e-06, 3.2673671956502214e-06, -0.060970058600307755, 1.1071123111794272e-06, 9.908661044998604e-07, 4.315574095435829e-06, 3.1961414631476454e-06, 2.8447119109603586e-06, 4.593665438594283e-06, 6.567891219158993e-07, 5.904809949375021e-06, 3.8483992711305065e-06, 1.1924594467842084e-06, 5.4982635076367666e-06, 6.50395348788488e-06, 4.4979517871925326e-07, -0.047327236446235474, 0.07896100070106622, 4.784146018523501e-06, 2.3863804619711515e-06, 5.4719771427118945e-06, 3.4632799481718452e-06, 2.8853007676141464e-06, 4.877664403688323e-06, 6.038405027958861e-06, 2.9153394665792444e-06, 9.409449970426824e-07, 1.5436450927112699e-06, 3.6731495601806165e-06, 3.5228598514592667e-06, 5.528640553309764e-06, 3.2261274891419542e-06, 4.737433787130944e-06, 3.01457259026161e-06, 5.431389555887348e-06, 1.0553727872346372e-06, 1.2996943413844584e-07, 1.3548347012137552e-06, 4.886073727952623e-06, 1.4071148398551003e-06, 2.288995974398061e-06, 6.023967901290119e-06, 0.026982623102860464, 5.9065862014950956e-06, -0.02964382523672066, 4.669493097570262e-06, 5.674255809599282e-06, 4.111616504726781e-06, 2.7523214776950564e-06, 3.809633817498441e-06, -0.02138448596419837, 3.0146179790536955e-06, 1.3953177782386214e-06, 2.891523695593523e-07, 2.687562515599036e-06, 0.02154389133122056, 5.596655831931299e-06, -0.007824753189519102, 3.5597140825510864e-06, 1.475803828743691e-07, 4.686573550397413e-07, 1.0927689439344214e-07, -0.007978183544458877, 4.117463052306421e-06, 6.094820373157255e-07, 0.058848570188581875, 1.133328431482121e-06, 3.0515086058616473e-06, 3.5894636904911032e-06, 4.057524529254721e-06, 2.7311596093860643e-07, 6.243653853093455e-06, 7.005214970271398e-07, 4.694994514575751e-07, 2.4591985181556787e-06, 2.863775728165846e-06, 3.949406937516737e-06, 6.027592327648065e-06, 5.370222167806623e-06, 1.5412017972905245e-06, 3.2779277923812318e-06, 3.0877036058898186e-06, 3.7680391386481586e-06, 0.04731966882497633, 0.046672100615851586, 3.484561554047594e-06, 3.98300698164682e-07, 1.8395762698169492e-06, 3.970065827385288e-06, 3.3588711777492062e-06, 3.223118712116319e-06, 8.471293363768694e-07, 4.8800380124349405e-06, 2.9864066029831015e-06, 2.416154472316767e-06, 5.525332762704285e-06, 3.1377830460064605e-08, 4.656568501050004e-06, 3.7654380065253074e-06, 0.007830995462861536, -0.05782081762930901, 2.667828147136437e-06, 3.1656306702485964e-06, 4.3538155974612916e-07, 4.258172126246814e-06, 5.2298050379813155e-06, 4.124547604792189e-08, 5.327118848233778e-06, 1.1980434635624597e-06, 3.4999569640046774e-06, 3.837913914322229e-06, 5.640626704925543e-06, -0.097445000891041, 6.81691384092489e-07, 3.261434329428046e-06, 5.1841749288086284e-06, 5.312545269342333e-06, 0.021391589695037475, 4.659961906940863e-06, 2.65507438707235e-06, 2.4100767982113397e-06, 0.04733203692808565, 4.274488659740832e-06, 1.5821865742971238e-06, 7.306753850220949e-07, 2.350652349728109e-06, 3.789918709871586e-06, 1.6000385992992052e-06, -0.05884568171875099, 0.05782726157529374, -0.07895546546767623, 4.663885709994861e-06, 6.981787119818015e-07, 2.0961644093070604e-07, 1.3274235688224975e-07, 1.3577723797037463e-06, 8.869007067700862e-07, 8.905285219958009e-07, 4.683353026681401e-06, 1.9087570977688814e-06, 5.837681043353829e-06, 3.138484243305931e-06, 3.7338613300930534e-06, 1.0842226008321046e-06, 5.131545787051501e-06, 1.5016819173254173e-06, -0.04666451705474654, 3.795617973062526e-06, 5.7684812763739305e-06, 4.059711775998696e-06, 4.74820638393625e-06, 1.390855073762602e-06, 1.5686776668066525e-06, 5.931501732677186e-06, 1.7524193490906776e-06, 2.279134180861249e-06, 6.743990833349502e-07, 3.2714227038989383e-06, 2.766646439531009e-06, 1.7967425954244882e-06, 8.378921273217681e-07, 3.2017836636230848e-06, 2.9506414889328928e-06, 8.409546457073209e-07, 7.923294319681965e-07, 2.1695529538552393e-06, 1.7355718258890006e-06, -0.02153585425018394, 1.4277517860673117e-06, 9.681253416285067e-07, 4.2939939465772e-07, 2.4126364866963e-06, 4.848939952431609e-06, 3.7574965307608706e-06, 4.417501603553085e-06, 2.2698826003856254e-06, 5.080606507673145e-06, 1.0618583617886944e-06, 6.617594286345993e-07, 1.6524500984693785e-06, 2.0997134198674334e-06, 2.5281532271507757e-06, 2.8611634247184755e-06, 2.2630216543752904e-06, 2.936267867077549e-06, 4.834431939089658e-06, 4.102578717635863e-06]\n"
          ],
          "name": "stdout"
        }
      ]
    },
    {
      "cell_type": "code",
      "metadata": {
        "id": "-07C5ff8PNTk",
        "colab_type": "code",
        "colab": {
          "base_uri": "https://localhost:8080/",
          "height": 316
        },
        "outputId": "db498cc3-e4b4-4124-8bf6-f2f8493056b7"
      },
      "source": [
        "parent1 = Individual([0.12,0.23,0.13,0.18,0.02,0.32])\n",
        "parent2 = Individual([0.10,0.13,0.19,0.16,0.21,0.21])"
      ],
      "execution_count": 90,
      "outputs": [
        {
          "output_type": "error",
          "ename": "NameError",
          "evalue": "ignored",
          "traceback": [
            "\u001b[0;31m---------------------------------------------------------------------------\u001b[0m",
            "\u001b[0;31mNameError\u001b[0m                                 Traceback (most recent call last)",
            "\u001b[0;32m<ipython-input-90-b79b67d7e38c>\u001b[0m in \u001b[0;36m<module>\u001b[0;34m()\u001b[0m\n\u001b[0;32m----> 1\u001b[0;31m \u001b[0mparent1\u001b[0m \u001b[0;34m=\u001b[0m \u001b[0mIndividual\u001b[0m\u001b[0;34m(\u001b[0m\u001b[0;34m[\u001b[0m\u001b[0;36m0.12\u001b[0m\u001b[0;34m,\u001b[0m\u001b[0;36m0.23\u001b[0m\u001b[0;34m,\u001b[0m\u001b[0;36m0.13\u001b[0m\u001b[0;34m,\u001b[0m\u001b[0;36m0.18\u001b[0m\u001b[0;34m,\u001b[0m\u001b[0;36m0.02\u001b[0m\u001b[0;34m,\u001b[0m\u001b[0;36m0.32\u001b[0m\u001b[0;34m]\u001b[0m\u001b[0;34m)\u001b[0m\u001b[0;34m\u001b[0m\u001b[0;34m\u001b[0m\u001b[0m\n\u001b[0m\u001b[1;32m      2\u001b[0m \u001b[0mparent2\u001b[0m \u001b[0;34m=\u001b[0m \u001b[0mIndividual\u001b[0m\u001b[0;34m(\u001b[0m\u001b[0;34m[\u001b[0m\u001b[0;36m0.10\u001b[0m\u001b[0;34m,\u001b[0m\u001b[0;36m0.13\u001b[0m\u001b[0;34m,\u001b[0m\u001b[0;36m0.19\u001b[0m\u001b[0;34m,\u001b[0m\u001b[0;36m0.16\u001b[0m\u001b[0;34m,\u001b[0m\u001b[0;36m0.21\u001b[0m\u001b[0;34m,\u001b[0m\u001b[0;36m0.21\u001b[0m\u001b[0;34m]\u001b[0m\u001b[0;34m)\u001b[0m\u001b[0;34m\u001b[0m\u001b[0;34m\u001b[0m\u001b[0m\n",
            "\u001b[0;32m<ipython-input-89-eab48a12a3ae>\u001b[0m in \u001b[0;36m__init__\u001b[0;34m(self, input_value, init)\u001b[0m\n\u001b[1;32m     14\u001b[0m         \u001b[0;32melse\u001b[0m\u001b[0;34m:\u001b[0m\u001b[0;34m\u001b[0m\u001b[0;34m\u001b[0m\u001b[0m\n\u001b[1;32m     15\u001b[0m             \u001b[0mself\u001b[0m\u001b[0;34m.\u001b[0m\u001b[0mchromosome\u001b[0m \u001b[0;34m=\u001b[0m \u001b[0minput_value\u001b[0m\u001b[0;34m\u001b[0m\u001b[0;34m\u001b[0m\u001b[0m\n\u001b[0;32m---> 16\u001b[0;31m             \u001b[0mself\u001b[0m\u001b[0;34m.\u001b[0m\u001b[0mfitness_score\u001b[0m \u001b[0;34m=\u001b[0m \u001b[0mcalcualte_fitness\u001b[0m\u001b[0;34m(\u001b[0m\u001b[0;34m)\u001b[0m\u001b[0;34m\u001b[0m\u001b[0;34m\u001b[0m\u001b[0m\n\u001b[0m\u001b[1;32m     17\u001b[0m \u001b[0;34m\u001b[0m\u001b[0m\n\u001b[1;32m     18\u001b[0m \u001b[0;34m\u001b[0m\u001b[0m\n",
            "\u001b[0;31mNameError\u001b[0m: name 'calcualte_fitness' is not defined"
          ]
        }
      ]
    },
    {
      "cell_type": "code",
      "metadata": {
        "id": "VL4QEIoPL3iy",
        "colab_type": "code",
        "colab": {}
      },
      "source": [
        "def crossover(parent1, parent2 , list_t_max):\n",
        "        num_of_gene = parent1.get_size()\n",
        "        # t1 = sum(parent2.chromosome)\n",
        "        # print(t1)\n",
        "        # t2 = sum(parent1.chromosome)\n",
        "        # print(t2)\n",
        "        # cutting_point = random.randint(0,num_of_gene-1)\n",
        "        chromosome1 = [None]*num_of_gene\n",
        "        chromosome2 = [None]*num_of_gene\n",
        "        cutting_point =3\n",
        "        chromosome1[:cutting_point] = parent1.chromosome[:cutting_point]\n",
        "        chromosome2[:cutting_point] = parent2.chromosome[:cutting_point]\n",
        "        # beta = random.uniform(-0.5, 0.5)\n",
        "        beta = 0.18/0.16 -1\n",
        "        chromosome1[cutting_point] = (1-beta)*parent1.chromosome[cutting_point] + beta*parent2.chromosome[cutting_point]\n",
        "        chromosome2[cutting_point] = (1-beta)*parent2.chromosome[cutting_point] + beta*parent1.chromosome[cutting_point]\n",
        "        chromosome1[cutting_point+1:] = parent2.chromosome[cutting_point+1:]\n",
        "        chromosome2[cutting_point+1:] = parent1.chromosome[cutting_point+1:]\n",
        "        # for i in range(num_of_gene):\n",
        "        #     # print(i)\n",
        "        #     if parent1.chromosome[i] not in chromosome2:\n",
        "        #         chromosome2.append(parent1.chromosome[i])\n",
        "        #     if parent2.chromosome[i] not in chromosome1:\n",
        "        #         chromosome1.append(parent2.chromosome[i])\n",
        "        if sum(chromosome1) > 1:\n",
        "            chromosome1 =[i/sum(chromosome1) for i in chromosome1]\n",
        "            for i in range(len(chromosome2)-1):\n",
        "                g = random.uniform(0,min(1-sum(chromosome2),list_t_max[i] -chromosome2[i]))\n",
        "                chromosome2[i] += g\n",
        "            chromosome2[-1] = 1 - sum(chromosome2[:-2])\n",
        "\n",
        "        else:\n",
        "            chromosome2 =[i/sum(chromosome2) for i in chromosome2]\n",
        "            for i in range(len(chromosome1)-1):\n",
        "                g = random.uniform(0,min(1-sum(chromosome1),list_t_max[i] - chromosome1[i]))\n",
        "                chromosome1[i] += g\n",
        "            chromosome1[-1] = 1 - sum(chromosome1[:-2])\n",
        "\n",
        "\n",
        "        child1 = Individual(chromosome1)\n",
        "        child2 = Individual(chromosome2)\n",
        "        return child1, child2"
      ],
      "execution_count": 0,
      "outputs": []
    },
    {
      "cell_type": "code",
      "metadata": {
        "id": "qh0G1pd-RHTb",
        "colab_type": "code",
        "colab": {}
      },
      "source": [
        "# t1"
      ],
      "execution_count": 0,
      "outputs": []
    },
    {
      "cell_type": "code",
      "metadata": {
        "id": "cHok8PPFPcVq",
        "colab_type": "code",
        "colab": {
          "base_uri": "https://localhost:8080/",
          "height": 35
        },
        "outputId": "ef4c48f8-9f90-4cbc-9c4a-07190f4cf7de"
      },
      "source": [
        "a,b = crossover( parent1, parent2,[0.2,0.14,0.3,0.3,0.3,0.3])"
      ],
      "execution_count": 87,
      "outputs": [
        {
          "output_type": "stream",
          "text": [
            "asd\n"
          ],
          "name": "stdout"
        }
      ]
    },
    {
      "cell_type": "code",
      "metadata": {
        "id": "8ww55P4wPjag",
        "colab_type": "code",
        "colab": {
          "base_uri": "https://localhost:8080/",
          "height": 54
        },
        "outputId": "cf327fb4-a64e-454a-c524-1d61e1ecb3ff"
      },
      "source": [
        "print(a.chromosome)\n",
        "print(sum(a.chromosome))"
      ],
      "execution_count": 73,
      "outputs": [
        {
          "output_type": "stream",
          "text": [
            "[0.11136890951276103, 0.2134570765661253, 0.12064965197215778, 0.16473317865429235, 0.1948955916473318, 0.1948955916473318]\n",
            "1.0\n"
          ],
          "name": "stdout"
        }
      ]
    },
    {
      "cell_type": "code",
      "metadata": {
        "id": "VQ5GFp8hP1ZF",
        "colab_type": "code",
        "colab": {
          "base_uri": "https://localhost:8080/",
          "height": 54
        },
        "outputId": "fd0c2ccb-d161-46aa-8c1a-7d4d5ac3ec56"
      },
      "source": [
        "print(b.chromosome)\n",
        "print(sum(b.chromosome))"
      ],
      "execution_count": 88,
      "outputs": [
        {
          "output_type": "stream",
          "text": [
            "[0.1420837210104195, 0.1397107637191077, 0.21113632944749428, 0.1629838665235641, 0.022352920989539487, 0.34408531929941444]\n",
            "1.0223529209895394\n"
          ],
          "name": "stdout"
        }
      ]
    },
    {
      "cell_type": "code",
      "metadata": {
        "id": "fSy-hgfGQOI2",
        "colab_type": "code",
        "colab": {}
      },
      "source": [
        ""
      ],
      "execution_count": 0,
      "outputs": []
    }
  ]
}